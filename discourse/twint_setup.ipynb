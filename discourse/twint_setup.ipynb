{
 "cells": [
  {
   "cell_type": "markdown",
   "metadata": {},
   "source": [
    "# Setup and Run Twint\n",
    "\n",
    "Let's scrape some twitter data"
   ]
  },
  {
   "cell_type": "markdown",
   "metadata": {},
   "source": [
    "## Download Twint\n",
    "\n",
    "First we need to install twint. We'll basically follow the instructions on the twint github wiki: \n",
    "\n",
    "https://github.com/twintproject/twint/wiki/Setup\n",
    "\n",
    "Note: The instructions say you can use pip directly to install this, but that didn't work for me on my linux machine. Downloading and installing from source worked fine though. \n",
    "\n",
    "The \"!\" at the beginning of the code cells here, means that we're actually running unix shell command from this python notebook.\n"
   ]
  },
  {
   "cell_type": "code",
   "execution_count": null,
   "metadata": {},
   "outputs": [],
   "source": [
    "## Get the code for twint from github - if you've already done this \n",
    "## step, re-running it will give you an error.  That's ok, just move\n",
    "## on to the next step! \n",
    "!git clone --depth=1 https://github.com/twintproject/twint.git"
   ]
  },
  {
   "cell_type": "code",
   "execution_count": null,
   "metadata": {},
   "outputs": [],
   "source": [
    "## Grab all the required packages and install twint\n",
    "\n",
    "!(cd twint; pip install . -r requirements.txt)"
   ]
  },
  {
   "cell_type": "markdown",
   "metadata": {},
   "source": [
    "## Run some queries\n",
    "\n",
    "Now that we've installed twint we can try to scrape some tweets using it's command line interface. \n",
    "\n",
    "This following command gets tweets from the `@edinunilel` account using the `-u` option You'll see it just dumps out a bunch of information for each tweet"
   ]
  },
  {
   "cell_type": "code",
   "execution_count": null,
   "metadata": {},
   "outputs": [],
   "source": [
    "!twint -u edinunilel"
   ]
  },
  {
   "cell_type": "markdown",
   "metadata": {},
   "source": [
    "### Use some options\n",
    "Now let's try using a search term and some other options: \n",
    "* `-s vaccination` says looks for tweets that contain the term 'vaccination'\n",
    "* `-o vaccination.csv` says write out the results to the file vaccination.csv\n",
    "* `--csv` says write the output in csv format (csv=comma separate values, but by default here columns are actually separated by tabs!)\n",
    "* `--limit 200` says only get the last 200 tweets"
   ]
  },
  {
   "cell_type": "code",
   "execution_count": null,
   "metadata": {},
   "outputs": [],
   "source": [
    "\n",
    "!twint -s vaccination -o vaccination.csv --csv --limit 200"
   ]
  },
  {
   "cell_type": "markdown",
   "metadata": {},
   "source": [
    "### Have a look at the output\n",
    "\n",
    "Now if you go back to the jupyter dashboard (click on the 'Jupyter' icon at the top of this page), you should see vaccination.csv in your list of files\n",
    "\n",
    "Alternatively, we can take a peak at the file using the `head` command. \n",
    "\n",
    "Notice that even though we asked for a comma separated value (csv) file, the columns are actually separated by tabs (tsv). "
   ]
  },
  {
   "cell_type": "code",
   "execution_count": null,
   "metadata": {},
   "outputs": [],
   "source": [
    "## Have a look at the top 10 lines of the vaccination.csv file we just created with the query above\n",
    "!head -n 10 vaccination.csv"
   ]
  },
  {
   "cell_type": "markdown",
   "metadata": {},
   "source": [
    "### Try out some other options\n",
    "\n",
    "You can modify your queries with other commandline options, listed here: \n",
    "\n",
    "https://github.com/twintproject/twint/wiki/Basic-usage"
   ]
  },
  {
   "cell_type": "markdown",
   "metadata": {},
   "source": [
    "## Do it python instead! \n",
    "\n",
    "You can of course inspect your data using python. This class isn't about programming so you can stop here now if you don't have experience with this!\n",
    "\n",
    "If you have done some python, you can have a look at your data using, for example, `pandas`.\n",
    "\n",
    "You can also `import twint` as package within your own python code (see the github docs) \n"
   ]
  },
  {
   "cell_type": "code",
   "execution_count": null,
   "metadata": {},
   "outputs": [],
   "source": [
    "\n",
    "import pandas as pd\n",
    "\n",
    "## Read in the *tab separated* csv file you just made \n",
    "tweets = pd.read_csv('vaccination.csv', sep=\"\\t\")\n",
    "\n",
    "## Have a look at the first 20 rows\n",
    "tweets[0:20]"
   ]
  },
  {
   "cell_type": "code",
   "execution_count": null,
   "metadata": {},
   "outputs": [],
   "source": [
    "import sys\n",
    "sys.path.append(\"./twint\")"
   ]
  },
  {
   "cell_type": "code",
   "execution_count": null,
   "metadata": {},
   "outputs": [],
   "source": [
    "!pip install nest_asyncio\n",
    "\n"
   ]
  },
  {
   "cell_type": "code",
   "execution_count": null,
   "metadata": {},
   "outputs": [],
   "source": [
    "import nest_asyncio\n",
    "nest_asyncio.apply()"
   ]
  },
  {
   "cell_type": "code",
   "execution_count": null,
   "metadata": {},
   "outputs": [],
   "source": [
    "import twint\n",
    "\n",
    "c = twint.Config()\n",
    "c.Username = \"edinunilel\"\n",
    "twint.run.Search(c)"
   ]
  },
  {
   "cell_type": "code",
   "execution_count": null,
   "metadata": {},
   "outputs": [],
   "source": [
    "c"
   ]
  },
  {
   "cell_type": "code",
   "execution_count": null,
   "metadata": {},
   "outputs": [],
   "source": []
  }
 ],
 "metadata": {
  "kernelspec": {
   "display_name": "Python 3",
   "language": "python",
   "name": "python3"
  },
  "language_info": {
   "codemirror_mode": {
    "name": "ipython",
    "version": 3
   },
   "file_extension": ".py",
   "mimetype": "text/x-python",
   "name": "python",
   "nbconvert_exporter": "python",
   "pygments_lexer": "ipython3",
   "version": "3.7.6"
  }
 },
 "nbformat": 4,
 "nbformat_minor": 4
}
