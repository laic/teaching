{
 "cells": [
  {
   "cell_type": "markdown",
   "metadata": {},
   "source": [
    "# Setup and Run Twint\n",
    "\n",
    "Let's scrape some twitter data!\n",
    "\n",
    "### First things first: Jupyter Notebooks\n",
    "\n",
    "Jupyter Notebooks allow you to write nicely formatted text and run code (in this case Python), all within a browser.\n",
    "You should be able to use this Notebook to scrape twitter data by just running each of these cells (the shaded boxes on this page) in turn.  \n",
    "\n",
    "**To run a cell**, click on it and then click  the 'Run' button from the menu at the top of the page. For _Markdown_ cells (like this one), this will just format the text.  For _Code_ cells this will actually run the code in the cell.   \n",
    "\n",
    "**A handy shortcut:** press `shift-enter` to run the current cell and move to the next one. \n",
    "\n",
    "You can make a new cell using the _Insert_ menu (this will be a code cell by default).  You can clear everything and start again by going to _Kernel > Restart and Clear Output_\n",
    "\n",
    "If you're not familiar with Jupyter Notebooks and want to find out more, you can find some tutorials here:\n",
    "\n",
    "* [A very quick overview from the Jupyter docs](https://nbviewer.jupyter.org/github/jupyter/notebook/blob/master/docs/source/examples/Notebook/Notebook%20Basics.ipynb)\n",
    "* [An interactive tutorial from the Binder project that's made up of Jupyter notebooks](https://gke.mybinder.org/v2/gh/ipython/ipython-in-depth/master?filepath=binder/Index.ipynb)\n",
    "* [Jupyter docs](https://jupyter-notebook.readthedocs.io/en/stable/notebook.html)\n",
    "* [More info on Edina Notable](https://noteable.edina.ac.uk/documentation/)\n",
    "\n",
    "\n",
    "For now, let's just run the rest of this notebook and scrape some tweets! \n"
   ]
  },
  {
   "cell_type": "markdown",
   "metadata": {},
   "source": [
    "## Download Twint\n",
    "\n",
    "First we need to install twint, a python based twitter scraper. We'll basically follow the instructions on the twint github wiki: \n",
    "\n",
    "https://github.com/twintproject/twint/wiki/Setup\n",
    "\n",
    "Note: The instructions say you can use pip directly to install this, but that didn't work for me on my linux machine. Downloading and installing from source worked fine though. \n",
    "\n",
    "If you're confused by the `!` at the beginning of the line in the next few code cells: it just means that we're actually running a unix shell command from this python notebook (so not actually python but part of the programming environment that is available to you with these notebooks).\n",
    "\n",
    "The next cell is a _code_ cell.  When you run it, it will get the source code for twint from github for you.  "
   ]
  },
  {
   "cell_type": "code",
   "execution_count": null,
   "metadata": {},
   "outputs": [],
   "source": [
    "## Get the code for twint from github - if you've already done this \n",
    "## step, re-running it will give you an error.  That's ok, just move\n",
    "## on to the next step! \n",
    "!git clone --depth=1 https://github.com/twintproject/twint.git"
   ]
  },
  {
   "cell_type": "code",
   "execution_count": null,
   "metadata": {},
   "outputs": [],
   "source": [
    "## Grab all the required packages and install twint\n",
    "## This will print out a lot of text\n",
    "\n",
    "!(cd twint; pip install . -r requirements.txt)"
   ]
  },
  {
   "cell_type": "markdown",
   "metadata": {},
   "source": [
    "## Run some queries\n",
    "\n",
    "Now that we've installed twint we can try to scrape some tweets using it's command line interface. \n",
    "\n",
    "This following command gets tweets from the `@edinunilel` account using the `-u` option You'll see it just dumps out a bunch of information for each tweet, including the tweet text itself.  "
   ]
  },
  {
   "cell_type": "code",
   "execution_count": null,
   "metadata": {},
   "outputs": [],
   "source": [
    "!twint -u edinunilel"
   ]
  },
  {
   "cell_type": "markdown",
   "metadata": {},
   "source": [
    "### Try some other query options\n",
    "Now let's try using a search term and some other options: \n",
    "* `-s vaccination` says looks for tweets that contain the term 'vaccination'\n",
    "* `-o vaccination.csv` says write out the results to the file vaccination.csv\n",
    "* `--csv` says write the output in csv format (csv=comma separate values, but by default here columns are actually separated by tabs!)\n",
    "* `--limit 200` says only get the last 200 tweets"
   ]
  },
  {
   "cell_type": "code",
   "execution_count": null,
   "metadata": {},
   "outputs": [],
   "source": [
    "\n",
    "!twint -s vaccination -o vaccination.csv --csv --limit 200"
   ]
  },
  {
   "cell_type": "markdown",
   "metadata": {},
   "source": [
    "### Have a look at the output\n",
    "\n",
    "Now if you go back to the jupyter dashboard (click on the 'Jupyter' icon at the top of this page), you should see vaccination.csv in your list of files.\n",
    "\n",
    "Alternatively, we can take a peak at the file using the `head` command below.  You can see that the column with the tweet text is called 'tweet'.\n",
    "\n",
    "*Note:* Even though we asked for a comma separated value (csv) file, the columns are actually separated by tabs (tsv). "
   ]
  },
  {
   "cell_type": "code",
   "execution_count": null,
   "metadata": {},
   "outputs": [],
   "source": [
    "## Have a look at the top 10 lines of the vaccination.csv file we just created with the query above\n",
    "!head -n 10 vaccination.csv"
   ]
  },
  {
   "cell_type": "markdown",
   "metadata": {},
   "source": [
    "### Even more  options\n",
    "\n",
    "You can modify your queries with other commandline options, listed here: \n",
    "\n",
    "https://github.com/twintproject/twint/wiki/Basic-usage"
   ]
  },
  {
   "cell_type": "code",
   "execution_count": null,
   "metadata": {},
   "outputs": [],
   "source": [
    "## try writing your own query here! \n",
    "\n"
   ]
  },
  {
   "cell_type": "markdown",
   "metadata": {},
   "source": [
    "## Do it python instead! \n",
    "\n",
    "This class isn't about programming so **you can stop here now** if you don't have experience with python!\n",
    "\n",
    "If already know some python, you can inspect your data and run queries using python instead of the command line. \n",
    "\n",
    "For example, you can inspect and process your data using the `pandas` package.\n",
    "\n"
   ]
  },
  {
   "cell_type": "code",
   "execution_count": null,
   "metadata": {},
   "outputs": [],
   "source": [
    "\n",
    "import pandas as pd\n",
    "\n",
    "## Read in the *tab separated* csv file you just made \n",
    "tweets = pd.read_csv('vaccination.csv', sep=\"\\t\")\n",
    "\n",
    "## Have a look at the first 20 rows\n",
    "tweets[0:20]"
   ]
  },
  {
   "cell_type": "markdown",
   "metadata": {},
   "source": [
    "You can also `import twint` as package within your own python code. \n",
    "See: https://github.com/twintproject/twint/wiki/Scraping-functions \n"
   ]
  },
  {
   "cell_type": "code",
   "execution_count": null,
   "metadata": {},
   "outputs": [],
   "source": [
    "#In order to use twint in python in jupyter notebooks you also need nest_asyncio\n",
    "!pip install nest_asyncio\n",
    "import nest_asyncio\n",
    "nest_asyncio.apply()"
   ]
  },
  {
   "cell_type": "code",
   "execution_count": null,
   "metadata": {},
   "outputs": [],
   "source": [
    "## You might need to add our twint install to your pythonpath or just restart the notebook\n",
    "import sys\n",
    "sys.path.append(\"./twint\")\n"
   ]
  },
  {
   "cell_type": "code",
   "execution_count": null,
   "metadata": {},
   "outputs": [],
   "source": [
    "## Run a query inside python\n",
    "## For more examples: https://github.com/twintproject/twint/wiki/Scraping-functions \n",
    "\n",
    "## Get the tweets for the LEL twitter account from within python code\n",
    "import twint\n",
    "c = twint.Config()\n",
    "c.Username = \"edinunilel\"\n",
    "c.Pandas = True\n",
    "\n",
    "twint.run.Search(c)\n",
    "Tweets_df = twint.storage.panda.Tweets_df\n",
    "\n"
   ]
  },
  {
   "cell_type": "code",
   "execution_count": null,
   "metadata": {},
   "outputs": [],
   "source": [
    "## print the first few rows of the output\n",
    "print(Tweets_df.head())\n",
    "\n",
    "## Write just the tweet column to a file\n",
    "Tweets_df['tweet'].to_csv('edinunilel-twint-python.txt', index=False)\n"
   ]
  },
  {
   "cell_type": "code",
   "execution_count": null,
   "metadata": {},
   "outputs": [],
   "source": [
    "## Take a look at the top of the file\n",
    "!head edinunilel-twint-python.txt"
   ]
  },
  {
   "cell_type": "code",
   "execution_count": null,
   "metadata": {},
   "outputs": [],
   "source": []
  },
  {
   "cell_type": "code",
   "execution_count": null,
   "metadata": {},
   "outputs": [],
   "source": []
  }
 ],
 "metadata": {
  "kernelspec": {
   "display_name": "Python 3",
   "language": "python",
   "name": "python3"
  },
  "language_info": {
   "codemirror_mode": {
    "name": "ipython",
    "version": 3
   },
   "file_extension": ".py",
   "mimetype": "text/x-python",
   "name": "python",
   "nbconvert_exporter": "python",
   "pygments_lexer": "ipython3",
   "version": "3.7.6"
  }
 },
 "nbformat": 4,
 "nbformat_minor": 4
}
