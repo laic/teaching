{
 "cells": [
  {
   "cell_type": "markdown",
   "metadata": {},
   "source": [
    "# Data Structures\n",
    "\n",
    "Let's go over some fundamental data structures!"
   ]
  },
  {
   "attachments": {},
   "cell_type": "markdown",
   "metadata": {},
   "source": [
    "## Arrays\n",
    "\n",
    "Arrays are containers that hold a fixed number of items of the same type.  They're your basic data structure for storing sequence data.  \n",
    "\n",
    "![array.png](array.png)\n",
    "\n",
    "* If $X$ is our array, $X[i]$ is the $i$th element of $X$\n",
    "* Each element of $X$ should be the same type: e.g. integers, floats, other more complicated structures\n",
    "* Arrays hold a fixed number of items because they referred to a fixed \"chunk\" of memory.  If you try an index that is greater than the number of elements you'll get an error. \n",
    "\n",
    "\n",
    "<div class=\"alert alert-warning\">\n",
    "  <strong>Note:</strong> In programming languages where you have to do memory management yourself (e.g. C) you need to be careful about this. If you have an array of length 10 and ask for the 11th element the results can be unpredictable: you might just get whatever was in the next bit of memory adjacent to your array. \n",
    "\n",
    "<b>Fortunately you don't really have to worry about this with Python! :) </b>\n",
    "\n",
    "</div>\n",
    "\n",
    "image from:\n",
    "https://www.tutorialspoint.com/data_structures_algorithms/array_data_structure.htm"
   ]
  },
  {
   "cell_type": "code",
   "execution_count": null,
   "metadata": {},
   "outputs": [],
   "source": []
  },
  {
   "cell_type": "code",
   "execution_count": 148,
   "metadata": {},
   "outputs": [
    {
     "name": "stdout",
     "output_type": "stream",
     "text": [
      "X[4] =  14\n",
      "List length =  10\n"
     ]
    }
   ],
   "source": [
    "## We can implement our 10 element array as a list in python\n",
    "\n",
    "X = [35,33,42,10,14,19,27,44,26,31]\n",
    "print(\"X[4] = \", X[4])\n",
    "print(\"List length = \", len(X))"
   ]
  },
  {
   "cell_type": "code",
   "execution_count": 149,
   "metadata": {},
   "outputs": [
    {
     "name": "stdout",
     "output_type": "stream",
     "text": [
      "[35, 33, 42, 10, 14, 19, 27, 44, 26, 100]\n"
     ]
    }
   ],
   "source": [
    "## We can change an element of the array easy enough:\n",
    "\n",
    "X[9] = 100\n",
    "print(X)"
   ]
  },
  {
   "cell_type": "code",
   "execution_count": 150,
   "metadata": {},
   "outputs": [
    {
     "ename": "IndexError",
     "evalue": "list assignment index out of range",
     "output_type": "error",
     "traceback": [
      "\u001b[0;31m---------------------------------------------------------------------------\u001b[0m",
      "\u001b[0;31mIndexError\u001b[0m                                Traceback (most recent call last)",
      "\u001b[0;32m<ipython-input-150-750b2cef10d0>\u001b[0m in \u001b[0;36m<module>\u001b[0;34m\u001b[0m\n\u001b[1;32m      1\u001b[0m \u001b[0;31m## But if we try to add an 11th element this way, we get an error:\u001b[0m\u001b[0;34m\u001b[0m\u001b[0;34m\u001b[0m\u001b[0;34m\u001b[0m\u001b[0m\n\u001b[0;32m----> 2\u001b[0;31m \u001b[0mX\u001b[0m\u001b[0;34m[\u001b[0m\u001b[0;36m10\u001b[0m\u001b[0;34m]\u001b[0m \u001b[0;34m=\u001b[0m \u001b[0;36m101\u001b[0m\u001b[0;34m\u001b[0m\u001b[0;34m\u001b[0m\u001b[0m\n\u001b[0m",
      "\u001b[0;31mIndexError\u001b[0m: list assignment index out of range"
     ]
    }
   ],
   "source": [
    "## But if we try to add an 11th element this way, we get an error:\n",
    "X[10] = 101"
   ]
  },
  {
   "cell_type": "code",
   "execution_count": 151,
   "metadata": {},
   "outputs": [
    {
     "name": "stdout",
     "output_type": "stream",
     "text": [
      "[35, 33, 42, 10, 14, 19, 27, 44, 26, 100, 101]\n"
     ]
    }
   ],
   "source": [
    "## We need to append: \n",
    "\n",
    "X.append(101)\n",
    "print(X)"
   ]
  },
  {
   "cell_type": "code",
   "execution_count": 152,
   "metadata": {},
   "outputs": [
    {
     "name": "stdout",
     "output_type": "stream",
     "text": [
      "[-1, 35, 33, 42, 10, 14, 19, 27, 44, 26, 100, 101]\n"
     ]
    }
   ],
   "source": [
    "## Or insert: \n",
    "X.insert(0, -1)\n",
    "print(X)"
   ]
  },
  {
   "cell_type": "markdown",
   "metadata": {},
   "source": [
    "## Lists\n",
    "\n",
    "Lists in python are actually a more general type of data structure: the elements don't all have to be the same type.\n"
   ]
  },
  {
   "cell_type": "code",
   "execution_count": 153,
   "metadata": {},
   "outputs": [
    {
     "name": "stdout",
     "output_type": "stream",
     "text": [
      "['A', 1, ['B', 1], (1, 3, 4)]\n",
      "<class 'list'>\n"
     ]
    }
   ],
   "source": [
    "## e.g.\n",
    "a_weird_list = [\"A\", 1, [\"B\", 1], (1,3,4)]\n",
    "print(a_weird_list)\n",
    "print(type(a_weird_list))"
   ]
  },
  {
   "cell_type": "code",
   "execution_count": 154,
   "metadata": {},
   "outputs": [
    {
     "name": "stdout",
     "output_type": "stream",
     "text": [
      "0 A <class 'str'>\n",
      "1 1 <class 'int'>\n",
      "2 ['B', 1] <class 'list'>\n",
      "3 (1, 3, 4) <class 'tuple'>\n"
     ]
    }
   ],
   "source": [
    "## In this list every element is a different type\n",
    "for i, x in enumerate(a_weird_list):\n",
    "    print(i, x, type(x))\n"
   ]
  },
  {
   "attachments": {},
   "cell_type": "markdown",
   "metadata": {},
   "source": [
    "## Linked Lists\n",
    "\n",
    "Arrays are good for a lot of things, particular accessing specific elements directly.  But they're not optimal for all tasks.  Another way to create a list is to link together a bunch of elements.\n",
    "You basically have a node (i.e. the element value) and a pointer to (i.e. address of) the next element:\n",
    "\n",
    "![linkedlist.png](linkedlist.png)\n",
    "\n",
    "The next element could be anywhere in memory!  This is helpful when you are constructing bits of a data structure in different subtasks and need to collect them to form a larger one.  This is also very helpful when you don't know how long your list could be in advance because you don't have to keep allocating continguous chunks of memory. \n",
    "\n",
    "Some blogs with example implementations of linked lists in python: \n",
    "\n",
    "https://medium.com/@kojinoshiba/data-structures-in-python-series-1-linked-lists-d9f848537b4d\n",
    "https://www.tutorialspoint.com/python_data_structure/python_linked_lists.htm\n",
    "https://stackabuse.com/linked-lists-in-detail-with-python-examples-single-linked-lists/\n",
    "https://www.freecodecamp.org/news/python-interview-question-guide-how-to-code-a-linked-list-fd77cbbd367d/"
   ]
  },
  {
   "cell_type": "code",
   "execution_count": 155,
   "metadata": {},
   "outputs": [],
   "source": [
    "class linkedListNode(object):    \n",
    "    def __init__(self, value, nextNode=None):        \n",
    "        self.value = value        \n",
    "        self.nextNode = nextNode\n",
    "        \n",
    "node1 = linkedListNode(\"a\")\n",
    "node2 = linkedListNode(\"b\")\n",
    "node3 = linkedListNode(\"c\")\n",
    "\n"
   ]
  },
  {
   "cell_type": "code",
   "execution_count": 156,
   "metadata": {},
   "outputs": [
    {
     "name": "stdout",
     "output_type": "stream",
     "text": [
      "<__main__.linkedListNode object at 0x7f616062b3c8>\n",
      "None\n",
      "<__main__.linkedListNode object at 0x7f616062b358>\n",
      "None\n",
      "<__main__.linkedListNode object at 0x7f616062b400>\n",
      "None\n"
     ]
    }
   ],
   "source": [
    "## Currently we have nodes with values but no links\n",
    "for node in [node1, node2, node3]: \n",
    "    print(node)\n",
    "    print(node.nextNode)"
   ]
  },
  {
   "cell_type": "code",
   "execution_count": 157,
   "metadata": {},
   "outputs": [
    {
     "name": "stdout",
     "output_type": "stream",
     "text": [
      "0 :node: <__main__.linkedListNode object at 0x7f616062b3c8>\n",
      "0 :next: <__main__.linkedListNode object at 0x7f616062b358>\n",
      "1 :node: <__main__.linkedListNode object at 0x7f616062b358>\n",
      "1 :next: <__main__.linkedListNode object at 0x7f616062b400>\n",
      "2 :node: <__main__.linkedListNode object at 0x7f616062b400>\n",
      "2 :next: None\n"
     ]
    }
   ],
   "source": [
    "## So we set the links:\n",
    "node1.nextNode = node2\n",
    "node2.nextNode = node3\n",
    "for i, node in enumerate([node1, node2, node3]): \n",
    "    print(i, \":node:\", node)\n",
    "    print(i, \":next:\", node.nextNode)"
   ]
  },
  {
   "cell_type": "code",
   "execution_count": 158,
   "metadata": {},
   "outputs": [],
   "source": [
    "## Traverse the list and print out values\n",
    "def print_linked_list(start_node):\n",
    "    current_node = start_node\n",
    "    i = 0\n",
    "    while current_node is not None:\n",
    "        print(i, \" value:\", current_node.value)\n",
    "        ## Go to the next node\n",
    "        current_node = current_node.nextNode\n",
    "        i+=1\n",
    "\n",
    "#you can also think about how to do this recursively"
   ]
  },
  {
   "cell_type": "code",
   "execution_count": 159,
   "metadata": {},
   "outputs": [
    {
     "name": "stdout",
     "output_type": "stream",
     "text": [
      "0  value: a\n",
      "1  value: b\n",
      "2  value: c\n"
     ]
    }
   ],
   "source": [
    "start_node = node1\n",
    "print_linked_list(start_node)"
   ]
  },
  {
   "cell_type": "code",
   "execution_count": 160,
   "metadata": {},
   "outputs": [
    {
     "name": "stdout",
     "output_type": "stream",
     "text": [
      "0  value: a\n",
      "1  value: c\n",
      "2  value: b\n"
     ]
    }
   ],
   "source": [
    "## It's easy to rearrange the order in a linked list: you just have to change the pointers\n",
    "## Q: How would you do this with an array?\n",
    "\n",
    "node1.nextNode = node3\n",
    "node3.nextNode = node2\n",
    "node2.nextNode = None ## What happens if we don't add this?\n",
    "\n",
    "print_linked_list(start_node)"
   ]
  },
  {
   "cell_type": "markdown",
   "metadata": {},
   "source": [
    "### Basic Operations\n",
    "\n",
    "* Insert an element\n",
    "* Delete an element\n",
    "* Traverse the list (i.e. go through every element, as in print_linked_list)\n",
    "* Count the number of elements \n",
    "* Search for an item "
   ]
  },
  {
   "cell_type": "code",
   "execution_count": 161,
   "metadata": {},
   "outputs": [
    {
     "name": "stdout",
     "output_type": "stream",
     "text": [
      "0  value: a\n",
      "1  value: x\n",
      "2  value: c\n",
      "3  value: b\n"
     ]
    }
   ],
   "source": [
    "## Insert a node after the first list element\n",
    "\n",
    "node4  = linkedListNode(\"x\")\n",
    "node4.nextNode = start_node.nextNode\n",
    "start_node.nextNode = node4\n",
    "\n",
    "print_linked_list(start_node)\n",
    "\n",
    "# Q: how would you insert it after the 3rd element? the nth? "
   ]
  },
  {
   "cell_type": "code",
   "execution_count": 162,
   "metadata": {},
   "outputs": [
    {
     "name": "stdout",
     "output_type": "stream",
     "text": [
      "<__main__.linkedListNode object at 0x7f616062b3c8>\n",
      "0  value: a\n",
      "1  value: x\n",
      "2  value: c\n",
      "3  value: b\n"
     ]
    }
   ],
   "source": [
    "## Delete nodes with value \"c\":\n",
    "\n",
    "def deleteNodeWithVal(start_node, value):\n",
    "\n",
    "    currnode = start_node\n",
    "    prevnode = None\n",
    "    while currnode is not None:\n",
    "        ## If there's a match we want to unlink the node from the chain     \n",
    "        if currnode.value == value:\n",
    "            ## In this case the value matches so we want to delete this node\n",
    "            ## We do this by changing the pointer of the previous\n",
    "            ## If there''s no previous node, that means we have to change the start node of the list\n",
    "            if prevnode is None:\n",
    "                start_node = currnode.nextNode\n",
    "            else:\n",
    "                # link the previous node to the next one (skipping the current node)\n",
    "                prevnode.nextNode = currnode.nextNode\n",
    "        else:\n",
    "            prevnode = currnode\n",
    "        \n",
    "        #Go to the next link in the chain\n",
    "        currnode = currnode.nextNode\n",
    "    return start_node\n",
    "    \n",
    "    \n",
    "\n",
    "print(start_node)\n",
    "print_linked_list(start_node)\n"
   ]
  },
  {
   "cell_type": "code",
   "execution_count": 163,
   "metadata": {},
   "outputs": [
    {
     "name": "stdout",
     "output_type": "stream",
     "text": [
      "0  value: a\n",
      "1  value: x\n",
      "2  value: b\n"
     ]
    }
   ],
   "source": [
    "new_start = deleteNodeWithVal(start_node, \"c\")\n",
    "print_linked_list(new_start)"
   ]
  },
  {
   "cell_type": "code",
   "execution_count": 164,
   "metadata": {},
   "outputs": [
    {
     "name": "stdout",
     "output_type": "stream",
     "text": [
      "<__main__.linkedListNode object at 0x7f616062b400>\n",
      "c\n",
      "<__main__.linkedListNode object at 0x7f616062b358>\n",
      "b\n"
     ]
    }
   ],
   "source": [
    "print(node3)\n",
    "print(node3.value)\n",
    "print(node3.nextNode)\n",
    "print(node3.nextNode.value)\n"
   ]
  },
  {
   "cell_type": "code",
   "execution_count": 165,
   "metadata": {},
   "outputs": [],
   "source": [
    "## The deleted node is actually still hanging about\n",
    "## We still need to delete it\n",
    "#del node3\n",
    "#print(node3)\n",
    "## This should be added to our function above"
   ]
  },
  {
   "cell_type": "code",
   "execution_count": 166,
   "metadata": {},
   "outputs": [],
   "source": [
    "## We should encapsulate this all in a linked list class\n",
    "\n",
    "class LinkedList(object):\n",
    "    def __init__(self):        \n",
    "        self.startNode = None       \n",
    "        self.endNode = None\n",
    "    \n",
    "    def append(self, val):\n",
    "        newnode = linkedListNode(val)\n",
    "        ## If there's nothing in the list, the new node is the start node and end node\n",
    "        if self.endNode == None:\n",
    "            self.startNode = newnode\n",
    "            self.endNode = newnode\n",
    "        else:\n",
    "        ## Otherwise just point to the new node from the existing end node\n",
    "            self.endNode.nextNode = newnode\n",
    "            self.endNode = newnode\n",
    "        \n",
    "    def print(self):\n",
    "        print_linked_list(self.startNode)\n",
    "\n",
    "    def deleteVal(self, val):\n",
    "        self.startNode = deleteNodeWithVal(self.startNode, val)\n",
    "        \n",
    "    ### Add other operations like __repr__, insertion, search..."
   ]
  },
  {
   "cell_type": "code",
   "execution_count": 167,
   "metadata": {},
   "outputs": [],
   "source": [
    "mylist = LinkedList()"
   ]
  },
  {
   "cell_type": "code",
   "execution_count": 168,
   "metadata": {},
   "outputs": [
    {
     "name": "stdout",
     "output_type": "stream",
     "text": [
      "0  value: X\n"
     ]
    }
   ],
   "source": [
    "mylist.append(\"X\")\n",
    "mylist.print()"
   ]
  },
  {
   "cell_type": "code",
   "execution_count": 169,
   "metadata": {},
   "outputs": [
    {
     "name": "stdout",
     "output_type": "stream",
     "text": [
      "0  value: X\n",
      "1  value: a\n",
      "2  value: long\n",
      "3  value: long\n",
      "4  value: time\n",
      "5  value: ago\n"
     ]
    }
   ],
   "source": [
    "[mylist.append(val) for val in [\"a\", \"long\", \"long\", \"time\", \"ago\"]]\n",
    "mylist.print()"
   ]
  },
  {
   "cell_type": "code",
   "execution_count": 170,
   "metadata": {},
   "outputs": [
    {
     "name": "stdout",
     "output_type": "stream",
     "text": [
      "0  value: a\n",
      "1  value: long\n",
      "2  value: long\n",
      "3  value: time\n",
      "4  value: ago\n"
     ]
    }
   ],
   "source": [
    "mylist.deleteVal(\"X\")\n",
    "mylist.print()"
   ]
  },
  {
   "attachments": {},
   "cell_type": "markdown",
   "metadata": {},
   "source": [
    "## Trees\n",
    "\n",
    "\n",
    "We can build tree structures in a similar way to linked lists\n",
    "\n",
    "![tree.png](tree.png)\n",
    "\n",
    "Roughly: \n",
    "\n",
    "* A tree \"starts\" with a root node.  \n",
    "* Each node can then have multiple children. \n",
    "    * i.e. a node can have multiple pointers to other nodes (it's children)\n",
    "* Each node can only have one parent (one link to a \"higher\" node).\n",
    "* Nodes with no children are called terminal nodes or leaves, other nodes are call non-terminal nodes.\n",
    "\n",
    "You can think of a linked list as a \"stick\": every non-terminal node only has one child.\n",
    "\n",
    "In general, each node can have many children.  In practice, we usually deal with binary trees (at most 2 children per node). "
   ]
  },
  {
   "cell_type": "code",
   "execution_count": 171,
   "metadata": {},
   "outputs": [],
   "source": [
    "class BinaryTreeNode(object):    \n",
    "    def __init__(self, value, leftNode=None, rightNode=None):        \n",
    "        self.value = value        \n",
    "        self.leftNode = leftNode\n",
    "        self.rightNode = rightNode\n",
    "        ## You could add in other identifiers, attributes etc\n",
    "        \n",
    "    def __repr__(self):\n",
    "        ## Define the default way to print a node\n",
    "        return \"TreeNode(%s, %s, %s)\" % (self.value, self.leftNode, self.rightNode)\n",
    "       \n",
    "        \n"
   ]
  },
  {
   "attachments": {},
   "cell_type": "markdown",
   "metadata": {},
   "source": [
    "### Binary Search Tree\n",
    "A binary search tree has the property that: \n",
    "* all values in the left subtree as less than the root nodes value (aka key)\n",
    "* all values in the right subtree as greater than the root nodes value\n",
    "* left and right subtrees are also binary search trees\n",
    "\n",
    "![bst.png](bst.png)\n",
    "\n",
    "https://www.geeksforgeeks.org/binary-search-tree-data-structure/"
   ]
  },
  {
   "cell_type": "code",
   "execution_count": 172,
   "metadata": {},
   "outputs": [
    {
     "name": "stdout",
     "output_type": "stream",
     "text": [
      "TreeNode(8, None, None)\n",
      "8\n"
     ]
    }
   ],
   "source": [
    "rootNode = BinaryTreeNode(value=8)\n",
    "print(rootNode)\n",
    "print(rootNode.value)"
   ]
  },
  {
   "cell_type": "code",
   "execution_count": 173,
   "metadata": {},
   "outputs": [],
   "source": [
    "def BSTInsert(rootnode, newnode): \n",
    "    if rootnode == None:\n",
    "        print(\"root === None\")\n",
    "        rootnode = currnode\n",
    "    else: \n",
    "        if newnode.value <= rootnode.value: \n",
    "            print(\"new value <= root value: %d %d\" % (newnode.value, rootnode.value))\n",
    "            if rootnode.leftNode == None:\n",
    "                print(\"new left node\")\n",
    "                rootnode.leftNode = newnode\n",
    "            else:\n",
    "                BSTInsert(rootnode.leftNode, newnode)\n",
    "        else: \n",
    "            print(\"new value > root value: %d %d\" % (newnode.value, rootnode.value))\n",
    "\n",
    "            if rootnode.rightNode == None:\n",
    "                print(\"new rght node\")\n",
    "                rootnode.rightNode = newnode\n",
    "            else:\n",
    "                BSTInsert(rootnode.rightNode, newnode)\n",
    "    return\n",
    "            "
   ]
  },
  {
   "cell_type": "code",
   "execution_count": 174,
   "metadata": {},
   "outputs": [],
   "source": [
    "curr = BinaryTreeNode(value=7)"
   ]
  },
  {
   "cell_type": "code",
   "execution_count": 175,
   "metadata": {},
   "outputs": [
    {
     "name": "stdout",
     "output_type": "stream",
     "text": [
      "new value <= root value: 7 8\n",
      "new left node\n"
     ]
    }
   ],
   "source": [
    "BSTInsert(rootNode, curr)\n"
   ]
  },
  {
   "cell_type": "code",
   "execution_count": 176,
   "metadata": {},
   "outputs": [
    {
     "name": "stdout",
     "output_type": "stream",
     "text": [
      "** From root\n",
      "TreeNode(8, TreeNode(7, None, None), None)\n",
      "8\n",
      "** Left\n",
      "TreeNode(7, None, None)\n",
      "7\n",
      "** right\n",
      "None\n"
     ]
    },
    {
     "ename": "AttributeError",
     "evalue": "'NoneType' object has no attribute 'value'",
     "output_type": "error",
     "traceback": [
      "\u001b[0;31m---------------------------------------------------------------------------\u001b[0m",
      "\u001b[0;31mAttributeError\u001b[0m                            Traceback (most recent call last)",
      "\u001b[0;32m<ipython-input-176-0b5eb8f141df>\u001b[0m in \u001b[0;36m<module>\u001b[0;34m\u001b[0m\n\u001b[1;32m      7\u001b[0m \u001b[0mprint\u001b[0m\u001b[0;34m(\u001b[0m\u001b[0;34m\"** right\"\u001b[0m\u001b[0;34m)\u001b[0m\u001b[0;34m\u001b[0m\u001b[0;34m\u001b[0m\u001b[0m\n\u001b[1;32m      8\u001b[0m \u001b[0mprint\u001b[0m\u001b[0;34m(\u001b[0m\u001b[0mrootNode\u001b[0m\u001b[0;34m.\u001b[0m\u001b[0mrightNode\u001b[0m\u001b[0;34m)\u001b[0m\u001b[0;34m\u001b[0m\u001b[0;34m\u001b[0m\u001b[0m\n\u001b[0;32m----> 9\u001b[0;31m \u001b[0mprint\u001b[0m\u001b[0;34m(\u001b[0m\u001b[0mrootNode\u001b[0m\u001b[0;34m.\u001b[0m\u001b[0mrightNode\u001b[0m\u001b[0;34m.\u001b[0m\u001b[0mvalue\u001b[0m\u001b[0;34m)\u001b[0m\u001b[0;34m\u001b[0m\u001b[0;34m\u001b[0m\u001b[0m\n\u001b[0m",
      "\u001b[0;31mAttributeError\u001b[0m: 'NoneType' object has no attribute 'value'"
     ]
    }
   ],
   "source": [
    "print(\"** From root\")\n",
    "print(rootNode)\n",
    "print(rootNode.value)\n",
    "print(\"** Left\")\n",
    "print(rootNode.leftNode)\n",
    "print(rootNode.leftNode.value)\n",
    "print(\"** right\")\n",
    "print(rootNode.rightNode)\n",
    "print(rootNode.rightNode.value)\n"
   ]
  },
  {
   "cell_type": "markdown",
   "metadata": {},
   "source": [
    "## Navigating the tree\n",
    "We need a way to traverse the tree, i.e. go through all the elements of the list.  One way is depth-first:"
   ]
  },
  {
   "cell_type": "code",
   "execution_count": 177,
   "metadata": {},
   "outputs": [],
   "source": [
    "def DepthFirstTraverse(rootnode):\n",
    "    if rootnode == None:\n",
    "        return\n",
    "    \n",
    "    print(rootnode.value)\n",
    "    DepthFirstTraverse(rootnode.leftNode)\n",
    "    DepthFirstTraverse(rootnode.rightNode)\n",
    "    return"
   ]
  },
  {
   "cell_type": "code",
   "execution_count": 178,
   "metadata": {},
   "outputs": [
    {
     "name": "stdout",
     "output_type": "stream",
     "text": [
      "TreeNode(8, None, None)\n",
      "8\n",
      "new value <= root value: 7 8\n",
      "new left node\n",
      "new value > root value: 9 8\n",
      "new rght node\n",
      "new value <= root value: 2 8\n",
      "new value <= root value: 2 7\n",
      "new left node\n",
      "new value <= root value: 1 8\n",
      "new value <= root value: 1 7\n",
      "new value <= root value: 1 2\n",
      "new left node\n",
      "new value > root value: 100 8\n",
      "new value > root value: 100 9\n",
      "new rght node\n"
     ]
    }
   ],
   "source": [
    "rootNode = BinaryTreeNode(value=8)\n",
    "print(rootNode)\n",
    "print(rootNode.value)\n",
    "\n",
    "BSTInsert(rootNode, BinaryTreeNode(value=7))\n",
    "BSTInsert(rootNode, BinaryTreeNode(value=9))\n",
    "BSTInsert(rootNode, BinaryTreeNode(value=2))\n",
    "BSTInsert(rootNode, BinaryTreeNode(value=1))\n",
    "BSTInsert(rootNode, BinaryTreeNode(value=100))\n"
   ]
  },
  {
   "cell_type": "code",
   "execution_count": 180,
   "metadata": {},
   "outputs": [
    {
     "name": "stdout",
     "output_type": "stream",
     "text": [
      "TreeNode(8, TreeNode(7, TreeNode(2, TreeNode(1, None, None), None), None), TreeNode(9, None, TreeNode(100, None, None)))\n"
     ]
    }
   ],
   "source": [
    "print(rootNode)\n"
   ]
  },
  {
   "cell_type": "code",
   "execution_count": 207,
   "metadata": {},
   "outputs": [
    {
     "name": "stdout",
     "output_type": "stream",
     "text": [
      "TreeNode(7, TreeNode(2, TreeNode(1, None, None), None), None)\n"
     ]
    }
   ],
   "source": [
    "print(rootNode.leftNode)    "
   ]
  },
  {
   "cell_type": "code",
   "execution_count": 208,
   "metadata": {},
   "outputs": [
    {
     "name": "stdout",
     "output_type": "stream",
     "text": [
      "TreeNode(9, None, TreeNode(100, None, None))\n"
     ]
    }
   ],
   "source": [
    "print(rootNode.rightNode)"
   ]
  },
  {
   "cell_type": "code",
   "execution_count": null,
   "metadata": {},
   "outputs": [],
   "source": []
  },
  {
   "cell_type": "code",
   "execution_count": null,
   "metadata": {},
   "outputs": [],
   "source": []
  },
  {
   "cell_type": "code",
   "execution_count": 101,
   "metadata": {},
   "outputs": [
    {
     "name": "stdout",
     "output_type": "stream",
     "text": [
      "8\n",
      "7\n",
      "2\n",
      "1\n",
      "9\n",
      "100\n"
     ]
    }
   ],
   "source": [
    "DepthFirstTraverse(rootNode)"
   ]
  },
  {
   "cell_type": "code",
   "execution_count": 102,
   "metadata": {},
   "outputs": [],
   "source": [
    "## Binary Search Trees are for doing binary search!\n",
    "## Compare this sort of search to an ordered list...\n",
    "\n",
    "def BinarySearch(rootnode, query):\n",
    "    \n",
    "    if rootnode == None:\n",
    "        ## We've gotten to the leaves and didn't find the value\n",
    "        return None\n",
    "    \n",
    "    elif rootnode.value == query:\n",
    "        ## We've got a match! Return a pointer to that node\n",
    "        return rootnode\n",
    "    \n",
    "    elif query < rootnode.value:\n",
    "        ## Look left\n",
    "        return BinarySearch(rootnode.leftNode, query)\n",
    "    \n",
    "    else:\n",
    "        ## Look right\n",
    "        return BinarySearch(rootnode.rightNode, query)\n",
    "    "
   ]
  },
  {
   "cell_type": "code",
   "execution_count": 103,
   "metadata": {},
   "outputs": [
    {
     "data": {
      "text/plain": [
       "TreeNode(9, None, TreeNode(100, None, None))"
      ]
     },
     "execution_count": 103,
     "metadata": {},
     "output_type": "execute_result"
    }
   ],
   "source": [
    "BinarySearch(rootNode, 9)"
   ]
  },
  {
   "attachments": {},
   "cell_type": "markdown",
   "metadata": {},
   "source": [
    "## Stacks\n",
    "\n",
    "A fundamental data structure is the stack.  The stack data structure is like a stack in real life: \n",
    "\n",
    "![stackofbooks.png](stackofbooks.png)\n",
    "\n",
    "You can only really easily deal with the very top of the stack: you can look at the top, put something on top, or take the top thing off.\n",
    "\n",
    "\n",
    "\n",
    "\n",
    "\n"
   ]
  },
  {
   "attachments": {},
   "cell_type": "markdown",
   "metadata": {},
   "source": [
    "### Basic Operations\n",
    "* push: put an element on thetop of the stack \n",
    "* pop: take an element off the top of the stack\n",
    "* peek: look at the top element\n",
    "* You may also be able to look at all the values in the stack (e.g. shift reduce parsing)\n",
    "\n",
    "![stack.png](stack.png)\n",
    "The thing to remember about stacks is: Last in First Out (LIFO).\n",
    "Compare this to a Queue: First in First Out (FIFO)"
   ]
  },
  {
   "cell_type": "code",
   "execution_count": 104,
   "metadata": {},
   "outputs": [
    {
     "name": "stdout",
     "output_type": "stream",
     "text": [
      "['a', 'long', 'time', 'ago']\n"
     ]
    }
   ],
   "source": [
    "## python list append is like a push operation:\n",
    "s = []\n",
    "s.append(\"a\")\n",
    "s.append(\"long\")\n",
    "s.append(\"time\")\n",
    "s.append(\"ago\")\n",
    "print(s)"
   ]
  },
  {
   "cell_type": "code",
   "execution_count": 105,
   "metadata": {},
   "outputs": [
    {
     "name": "stdout",
     "output_type": "stream",
     "text": [
      "ago\n",
      "['a', 'long', 'time']\n"
     ]
    }
   ],
   "source": [
    "poptop = s.pop()\n",
    "print(poptop)\n",
    "print(s)"
   ]
  },
  {
   "attachments": {},
   "cell_type": "markdown",
   "metadata": {},
   "source": [
    "Remember python lists are really arrays, so if your stack grows a lot (i.e. a lot of push operations) you'll need to do a lot of memory reallocation.  You can also implement stacks in python using double ended queues (deque) which are actually doubly linked lists: \n",
    "\n",
    "\n",
    "\n",
    "![stackslinked.png](stackslinked.png)\n",
    "\n",
    "https://realpython.com/how-to-implement-python-stack/\n",
    "https://runestone.academy/runestone/books/published/pythonds/BasicDS/ImplementingaStackinPython.html"
   ]
  },
  {
   "cell_type": "code",
   "execution_count": null,
   "metadata": {},
   "outputs": [],
   "source": []
  },
  {
   "cell_type": "markdown",
   "metadata": {},
   "source": [
    "## Parse Trees and Stacks\n",
    "\n",
    "Stacks are very simple, but they give you a form of <em>memory</em>.  They are basically how a computer evaluates functions that call other functions.  You put the new function call on the top of the stack and pop it off when it's done.  So, you \"remember\" what function called it, because it's still on the stack.\n",
    "\n",
    "They appear a lot from a foundations of language processing perspective, because we can use them to parse expressions and to generate trees.\n",
    "\n",
    "Stacks are part of what define Context Free Languages. Basically, with finite state automata, we can do regular expressions (limited recursion).  If we add stacks (to form pushdown automata) we can do more!\n"
   ]
  },
  {
   "cell_type": "markdown",
   "metadata": {},
   "source": [
    "### Counting with stacks (sort of)\n",
    "Stacks allow us to do a limited form of counting.  An example of this is being able to determine whether an expression has properly matching parenthese."
   ]
  },
  {
   "cell_type": "code",
   "execution_count": 106,
   "metadata": {},
   "outputs": [
    {
     "name": "stdout",
     "output_type": "stream",
     "text": [
      "(S(NP(Det N) VP(v PP)))\n"
     ]
    }
   ],
   "source": [
    "currstr = \"(S(NP(Det N) VP(v PP)))\"\n",
    "print(currstr)"
   ]
  },
  {
   "cell_type": "code",
   "execution_count": 107,
   "metadata": {},
   "outputs": [],
   "source": [
    "def matchParens(xstr):\n",
    "    stack = []\n",
    "    for i in xstr:\n",
    "        ## Just for inspection\n",
    "        print(stack, \"||\", i)\n",
    "   \n",
    "        ## If you see an open paren, add it to the stack\n",
    "        if i == \"(\":\n",
    "            stack.append(i)\n",
    "            \n",
    "        ## If you see a close paren, the one it matches with should be at the top of the stack\n",
    "        elif (i == \")\"):\n",
    "            if stack[-1] == \"(\":\n",
    "                stack.pop()\n",
    "            else: \n",
    "                return \"mismatch\"\n",
    "        else:\n",
    "            pass\n",
    "            \n",
    "    ## If you've matched all your parens, you'll get an empty stack at the end!          \n",
    "    if stack == []:\n",
    "        return \"all matched\"\n",
    "    return  \"mismatch\"\n",
    "    "
   ]
  },
  {
   "cell_type": "code",
   "execution_count": 108,
   "metadata": {},
   "outputs": [
    {
     "name": "stdout",
     "output_type": "stream",
     "text": [
      "[] || (\n",
      "['('] || S\n",
      "['('] || (\n",
      "['(', '('] || N\n",
      "['(', '('] || P\n",
      "['(', '('] || (\n",
      "['(', '(', '('] || D\n",
      "['(', '(', '('] || e\n",
      "['(', '(', '('] || t\n",
      "['(', '(', '('] ||  \n",
      "['(', '(', '('] || N\n",
      "['(', '(', '('] || )\n",
      "['(', '('] ||  \n",
      "['(', '('] || V\n",
      "['(', '('] || P\n",
      "['(', '('] || (\n",
      "['(', '(', '('] || v\n",
      "['(', '(', '('] ||  \n",
      "['(', '(', '('] || P\n",
      "['(', '(', '('] || P\n",
      "['(', '(', '('] || )\n",
      "['(', '('] || )\n",
      "['('] || )\n"
     ]
    },
    {
     "data": {
      "text/plain": [
       "'all matched'"
      ]
     },
     "execution_count": 108,
     "metadata": {},
     "output_type": "execute_result"
    }
   ],
   "source": [
    "matchParens(currstr)"
   ]
  },
  {
   "cell_type": "code",
   "execution_count": 109,
   "metadata": {},
   "outputs": [
    {
     "name": "stdout",
     "output_type": "stream",
     "text": [
      "(S((NP(Det N))( VP(v PP)))\n"
     ]
    }
   ],
   "source": [
    "currstr = \"(S((NP(Det N))( VP(v PP)))\"\n",
    "print(currstr)"
   ]
  },
  {
   "cell_type": "code",
   "execution_count": 110,
   "metadata": {},
   "outputs": [
    {
     "name": "stdout",
     "output_type": "stream",
     "text": [
      "[] || (\n",
      "['('] || S\n",
      "['('] || (\n",
      "['(', '('] || (\n",
      "['(', '(', '('] || N\n",
      "['(', '(', '('] || P\n",
      "['(', '(', '('] || (\n",
      "['(', '(', '(', '('] || D\n",
      "['(', '(', '(', '('] || e\n",
      "['(', '(', '(', '('] || t\n",
      "['(', '(', '(', '('] ||  \n",
      "['(', '(', '(', '('] || N\n",
      "['(', '(', '(', '('] || )\n",
      "['(', '(', '('] || )\n",
      "['(', '('] || (\n",
      "['(', '(', '('] ||  \n",
      "['(', '(', '('] || V\n",
      "['(', '(', '('] || P\n",
      "['(', '(', '('] || (\n",
      "['(', '(', '(', '('] || v\n",
      "['(', '(', '(', '('] ||  \n",
      "['(', '(', '(', '('] || P\n",
      "['(', '(', '(', '('] || P\n",
      "['(', '(', '(', '('] || )\n",
      "['(', '(', '('] || )\n",
      "['(', '('] || )\n"
     ]
    },
    {
     "data": {
      "text/plain": [
       "'mismatch'"
      ]
     },
     "execution_count": 110,
     "metadata": {},
     "output_type": "execute_result"
    }
   ],
   "source": [
    "matchParens(currstr)"
   ]
  },
  {
   "cell_type": "markdown",
   "metadata": {},
   "source": [
    "### Generating from Context Free Grammars with a Stack\n",
    "\n",
    "Given a bunch of context free rules, we can generate the strings in the language defined by those rules:\n",
    "\n",
    "\\begin{align}\n",
    "S & \\rightarrow NP \\,\\, VP \\\\\n",
    "NP & \\rightarrow DT \\,\\, N \\\\\n",
    "VP & \\rightarrow V \\,\\, NP \\\\\n",
    "V &\\rightarrow \\{loved, hated, tricked\\}\\\\\n",
    "N &\\rightarrow \\{cat, dog\\}\\\\\n",
    "DT &\\rightarrow \\{a, the\\}\\\\\n",
    "\\end{align}\n",
    "\n",
    "\n"
   ]
  },
  {
   "cell_type": "code",
   "execution_count": 111,
   "metadata": {},
   "outputs": [],
   "source": [
    "ruledict = {'S':(\"rule\",['NP','VP']), \n",
    "            'NP':(\"rule\",['DT','N']),\n",
    "            'VP':(\"rule\",['V', 'NP']), \n",
    "            'V':(\"term\", ['loved','hated','tricked']),\n",
    "            'N':(\"term\",['cat','dog']),\n",
    "            'DT':(\"term\",['a','the'])\n",
    "    \n",
    "}"
   ]
  },
  {
   "cell_type": "code",
   "execution_count": 112,
   "metadata": {},
   "outputs": [],
   "source": [
    "import random \n",
    "\n",
    "def genSentence(ruledict, startSymbol=\"S\"):\n",
    "    sentence = []\n",
    "    stack = []\n",
    "    stack.append(startSymbol)\n",
    "    \n",
    "    while stack != []:\n",
    "        print(\"STACK:\", stack)\n",
    "        curr_symb = stack.pop()\n",
    "        curr_rule = ruledict[curr_symb]\n",
    "        if curr_rule[0] == \"rule\":\n",
    "            for r in reversed(curr_rule[1]):\n",
    "                stack.append(r)\n",
    "        else:\n",
    "            sentence.append(random.choice(curr_rule[1]))\n",
    "            print(\"generated so far:\", sentence)\n",
    "            \n",
    "    return(sentence)\n",
    "    "
   ]
  },
  {
   "cell_type": "code",
   "execution_count": 113,
   "metadata": {},
   "outputs": [
    {
     "name": "stdout",
     "output_type": "stream",
     "text": [
      "STACK: ['S']\n",
      "STACK: ['VP', 'NP']\n",
      "STACK: ['VP', 'N', 'DT']\n",
      "generated so far: ['a']\n",
      "STACK: ['VP', 'N']\n",
      "generated so far: ['a', 'cat']\n",
      "STACK: ['VP']\n",
      "STACK: ['NP', 'V']\n",
      "generated so far: ['a', 'cat', 'hated']\n",
      "STACK: ['NP']\n",
      "STACK: ['N', 'DT']\n",
      "generated so far: ['a', 'cat', 'hated', 'the']\n",
      "STACK: ['N']\n",
      "generated so far: ['a', 'cat', 'hated', 'the', 'dog']\n"
     ]
    },
    {
     "data": {
      "text/plain": [
       "['a', 'cat', 'hated', 'the', 'dog']"
      ]
     },
     "execution_count": 113,
     "metadata": {},
     "output_type": "execute_result"
    }
   ],
   "source": [
    "genSentence(ruledict)"
   ]
  },
  {
   "cell_type": "code",
   "execution_count": 209,
   "metadata": {},
   "outputs": [],
   "source": [
    "class TreeNode(object):    \n",
    "    def __init__(self, value, children=[]):        \n",
    "        self.value = value        \n",
    "        ## No restriction on the number of children\n",
    "        ## Here we have a list of child nodes rather than specific pointers to left or right\n",
    "        self.children = children\n",
    "        \n",
    "    def __repr__(self):\n",
    "        return \"TreeNode(%s, %s)\" % (self.value, self.children)"
   ]
  },
  {
   "cell_type": "code",
   "execution_count": 210,
   "metadata": {},
   "outputs": [],
   "source": [
    "import random \n",
    "\n",
    "def genSentenceTree(ruledict, startSymbol=\"S\"):\n",
    "    sentence = []\n",
    "    stack = []\n",
    "\n",
    "    treeroot = TreeNode(startSymbol, children=[])\n",
    "    print(treeroot)\n",
    "    stack.append(treeroot)\n",
    "\n",
    "    while stack != []:\n",
    "        print(\"---------------\")\n",
    "        print(\"STACK:\", stack)\n",
    "        currnode  = stack.pop()\n",
    "        print(\"POP:\", currnode)\n",
    "        \n",
    "        curr_rule = ruledict[currnode.value]\n",
    "        print(\"Current rule:\", curr_rule)\n",
    "        if curr_rule[0] == \"rule\":\n",
    "            for r in reversed(curr_rule[1]):\n",
    "                print(\"PUSH:\", r)\n",
    "                newnode = TreeNode(r, children=[])\n",
    "                stack.append(newnode)\n",
    "                currnode.children.insert(0, newnode)\n",
    "        else:\n",
    "            newword = random.choice(curr_rule[1])\n",
    "            newnode = TreeNode(newword, children=[])\n",
    "            currnode.children.insert(0,newnode)\n",
    "            sentence.append(newword)\n",
    "            print(\"* generated so far:\", sentence)\n",
    "      \n",
    "            \n",
    "    return(sentence, treeroot)\n",
    "    "
   ]
  },
  {
   "cell_type": "code",
   "execution_count": 135,
   "metadata": {},
   "outputs": [
    {
     "name": "stdout",
     "output_type": "stream",
     "text": [
      "TreeNode(S, [])\n",
      "---------------\n",
      "STACK: [TreeNode(S, [])]\n",
      "POP: TreeNode(S, [])\n",
      "Current rule: ('rule', ['NP', 'VP'])\n",
      "PUSH: VP\n",
      "PUSH: NP\n",
      "---------------\n",
      "STACK: [TreeNode(VP, []), TreeNode(NP, [])]\n",
      "POP: TreeNode(NP, [])\n",
      "Current rule: ('rule', ['DT', 'N'])\n",
      "PUSH: N\n",
      "PUSH: DT\n",
      "---------------\n",
      "STACK: [TreeNode(VP, []), TreeNode(N, []), TreeNode(DT, [])]\n",
      "POP: TreeNode(DT, [])\n",
      "Current rule: ('term', ['a', 'the'])\n",
      "* generated so far: ['a']\n",
      "---------------\n",
      "STACK: [TreeNode(VP, []), TreeNode(N, [])]\n",
      "POP: TreeNode(N, [])\n",
      "Current rule: ('term', ['cat', 'dog'])\n",
      "* generated so far: ['a', 'cat']\n",
      "---------------\n",
      "STACK: [TreeNode(VP, [])]\n",
      "POP: TreeNode(VP, [])\n",
      "Current rule: ('rule', ['V', 'NP'])\n",
      "PUSH: NP\n",
      "PUSH: V\n",
      "---------------\n",
      "STACK: [TreeNode(NP, []), TreeNode(V, [])]\n",
      "POP: TreeNode(V, [])\n",
      "Current rule: ('term', ['loved', 'hated', 'tricked'])\n",
      "* generated so far: ['a', 'cat', 'hated']\n",
      "---------------\n",
      "STACK: [TreeNode(NP, [])]\n",
      "POP: TreeNode(NP, [])\n",
      "Current rule: ('rule', ['DT', 'N'])\n",
      "PUSH: N\n",
      "PUSH: DT\n",
      "---------------\n",
      "STACK: [TreeNode(N, []), TreeNode(DT, [])]\n",
      "POP: TreeNode(DT, [])\n",
      "Current rule: ('term', ['a', 'the'])\n",
      "* generated so far: ['a', 'cat', 'hated', 'a']\n",
      "---------------\n",
      "STACK: [TreeNode(N, [])]\n",
      "POP: TreeNode(N, [])\n",
      "Current rule: ('term', ['cat', 'dog'])\n",
      "* generated so far: ['a', 'cat', 'hated', 'a', 'cat']\n"
     ]
    }
   ],
   "source": [
    "sentence, tree = genSentenceTree(ruledict)"
   ]
  },
  {
   "cell_type": "code",
   "execution_count": 136,
   "metadata": {},
   "outputs": [
    {
     "data": {
      "text/plain": [
       "['a', 'cat', 'hated', 'a', 'cat']"
      ]
     },
     "execution_count": 136,
     "metadata": {},
     "output_type": "execute_result"
    }
   ],
   "source": [
    "sentence"
   ]
  },
  {
   "cell_type": "code",
   "execution_count": 137,
   "metadata": {},
   "outputs": [
    {
     "data": {
      "text/plain": [
       "TreeNode(S, [TreeNode(NP, [TreeNode(DT, [TreeNode(a, [])]), TreeNode(N, [TreeNode(cat, [])])]), TreeNode(VP, [TreeNode(V, [TreeNode(hated, [])]), TreeNode(NP, [TreeNode(DT, [TreeNode(a, [])]), TreeNode(N, [TreeNode(cat, [])])])])])"
      ]
     },
     "execution_count": 137,
     "metadata": {},
     "output_type": "execute_result"
    }
   ],
   "source": [
    "tree"
   ]
  },
  {
   "cell_type": "code",
   "execution_count": 146,
   "metadata": {},
   "outputs": [],
   "source": [
    "## Write a function to print this out in a nicer fashion?\n",
    "\n",
    "def print_tree(node, depth=1):\n",
    "    print(\"\\t\"*(depth-1), \"----\", node.value)\n",
    "    for childnode in node.children:\n",
    "        print_tree(childnode, depth=depth+1)\n",
    "    "
   ]
  },
  {
   "cell_type": "code",
   "execution_count": 147,
   "metadata": {},
   "outputs": [
    {
     "name": "stdout",
     "output_type": "stream",
     "text": [
      " ---- S\n",
      "\t ---- NP\n",
      "\t\t ---- DT\n",
      "\t\t\t ---- a\n",
      "\t\t ---- N\n",
      "\t\t\t ---- cat\n",
      "\t ---- VP\n",
      "\t\t ---- V\n",
      "\t\t\t ---- hated\n",
      "\t\t ---- NP\n",
      "\t\t\t ---- DT\n",
      "\t\t\t\t ---- a\n",
      "\t\t\t ---- N\n",
      "\t\t\t\t ---- cat\n"
     ]
    }
   ],
   "source": [
    "## An ok, but not that great representation of the tree\n",
    "## You can probably find a better pretty print function for trees out there \n",
    "## Or practice write one yourself!\n",
    "print_tree(tree)"
   ]
  },
  {
   "cell_type": "code",
   "execution_count": null,
   "metadata": {},
   "outputs": [],
   "source": []
  },
  {
   "cell_type": "code",
   "execution_count": null,
   "metadata": {},
   "outputs": [],
   "source": []
  },
  {
   "cell_type": "code",
   "execution_count": null,
   "metadata": {},
   "outputs": [],
   "source": []
  }
 ],
 "metadata": {
  "kernelspec": {
   "display_name": "Python 3",
   "language": "python",
   "name": "python3"
  },
  "language_info": {
   "codemirror_mode": {
    "name": "ipython",
    "version": 3
   },
   "file_extension": ".py",
   "mimetype": "text/x-python",
   "name": "python",
   "nbconvert_exporter": "python",
   "pygments_lexer": "ipython3",
   "version": "3.7.6"
  }
 },
 "nbformat": 4,
 "nbformat_minor": 2
}
